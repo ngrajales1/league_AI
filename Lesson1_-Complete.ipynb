{
 "cells": [
  {
   "cell_type": "markdown",
   "metadata": {},
   "source": [
    "# Lesson 1: Introduction To Python\n"
   ]
  },
  {
   "cell_type": "markdown",
   "metadata": {},
   "source": [
    "## Variables and Types\n",
    "\n",
    "### Calculations\n",
    "Python allows you to make normal calculations, just like a regular calculator:"
   ]
  },
  {
   "cell_type": "code",
   "execution_count": 2,
   "metadata": {},
   "outputs": [
    {
     "data": {
      "text/plain": [
       "4"
      ]
     },
     "execution_count": 2,
     "metadata": {},
     "output_type": "execute_result"
    }
   ],
   "source": [
    "# Addition\n",
    "3+1"
   ]
  },
  {
   "cell_type": "code",
   "execution_count": 3,
   "metadata": {},
   "outputs": [
    {
     "data": {
      "text/plain": [
       "12"
      ]
     },
     "execution_count": 3,
     "metadata": {},
     "output_type": "execute_result"
    }
   ],
   "source": [
    "# Multiplication\n",
    "3*4"
   ]
  },
  {
   "cell_type": "code",
   "execution_count": 6,
   "metadata": {},
   "outputs": [
    {
     "data": {
      "text/plain": [
       "28"
      ]
     },
     "execution_count": 6,
     "metadata": {},
     "output_type": "execute_result"
    }
   ],
   "source": [
    "# Order of operations\n",
    "(3+4)*4"
   ]
  },
  {
   "cell_type": "markdown",
   "metadata": {},
   "source": [
    "### Variables: Storing Values\n",
    "When you want to make more complex equations you can \"save\" values when you are coding.\n",
    "\n",
    "Imagine you had the task to calculate the measurements of a cylindrical can given that you know its radious (r) to be 1.82364 and height (h) to be 2.984757\n",
    "\n",
    "Measurements:\n",
    "- **Volume**: pi X r^2 X h\n",
    "- **Surface Area**: (2 X pi X r X h) + (2 X pi X r^2)\n",
    "\n",
    "Writing the r and h in these equations would be very inefficient and would take a long time...\n",
    "\n",
    "Instead we can assign the radious and height to variables and write the equations out...\n"
   ]
  },
  {
   "cell_type": "code",
   "execution_count": 15,
   "metadata": {},
   "outputs": [],
   "source": [
    "# Store the values of the radious, height and pi into variables\n",
    "r = 1.82364\n",
    "h = 2.984757\n",
    "pi = 3.14\n",
    "\n",
    "# We may now calculate the volume and surface area using normal math\n",
    "\n",
    "Vol = pi*(r**2)*h\n",
    "SA = (2*pi*r*h)+(2*pi*(r**2))"
   ]
  },
  {
   "cell_type": "markdown",
   "metadata": {},
   "source": [
    "### Display your information: print()\n",
    "print() is a function that can be used to display the results of your code"
   ]
  },
  {
   "cell_type": "code",
   "execution_count": 16,
   "metadata": {},
   "outputs": [
    {
     "name": "stdout",
     "output_type": "stream",
     "text": [
      "The volume of your cylinder is  31.168567775748336 and the Surface Area 55.0679704599024\n"
     ]
    }
   ],
   "source": [
    "print('The volume of your cylinder is ', Vol,  'and the Surface Area', SA)"
   ]
  },
  {
   "cell_type": "markdown",
   "metadata": {},
   "source": [
    "### Types\n",
    "- All values in Python have a specific type.\n",
    "    - There is thousands of types in python but the most common are:\n",
    "        - **Int**: This type describes numbers without decimal points\n",
    "        - **Float**: This type describes numbers with decimals\n",
    "        - **Strings**: This type describes a sequence of characters, like a word\n",
    "        - **Boolians**: A value with only two states (True or False and 1 or 0) used to represent logical propositions and to do data filtering\n",
    "        \n",
    "- The types of values can be found using the type() function\n"
   ]
  },
  {
   "cell_type": "code",
   "execution_count": null,
   "metadata": {},
   "outputs": [],
   "source": []
  }
 ],
 "metadata": {
  "kernelspec": {
   "display_name": "Python 3",
   "language": "python",
   "name": "python3"
  },
  "language_info": {
   "codemirror_mode": {
    "name": "ipython",
    "version": 3
   },
   "file_extension": ".py",
   "mimetype": "text/x-python",
   "name": "python",
   "nbconvert_exporter": "python",
   "pygments_lexer": "ipython3",
   "version": "3.8.3"
  }
 },
 "nbformat": 4,
 "nbformat_minor": 4
}
